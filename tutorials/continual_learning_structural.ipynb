{
 "cells": [
  {
   "cell_type": "code",
   "execution_count": null,
   "metadata": {},
   "outputs": [],
   "source": [
    "# %%\n",
    "\n",
    "import site\n",
    "import sys\n",
    "\n",
    "site.addsitedir('../')  # Always appends to end\n",
    "\n",
    "from kan import *\n",
    "import numpy as np\n",
    "import torch\n",
    "import matplotlib.pyplot as plt\n",
    "import pdb\n",
    "\n",
    "from copy import deepcopy"
   ]
  },
  {
   "cell_type": "code",
   "execution_count": null,
   "metadata": {},
   "outputs": [],
   "source": [
    "# %%\n",
    "import math\n",
    "from torch.utils.data import Dataset\n",
    "\n",
    "# f = lambda x: (x[:,[0]]**2 + x[:,[2]] + 3*torch.sin(x[:,[1]]))/(x[:,[0]] + 2*x[:,[1]] - x[:,[2]])\n",
    "# sin(x) * cos(y) + exp(z/2) - x^2 * y\n",
    "f = lambda x: torch.sin(x[:, [0]]) * torch.cos(x[:, [1]]) + torch.exp(x[:, [2]]/2) - x[:, [0]]**2 * x[:, [1]]\n",
    "\n",
    "test_num = int(((10/0.1)**3)*0.2)\n",
    "test_num_sub = test_num // 8\n",
    "seednum = 1\n",
    "\n",
    "datasetall = create_dataset(f, n_var=3, test_num=test_num, seed=seednum, step_size=0.1, ranges=[[-5,5], [-5,5], [-5,5]], device=\"cpu\")\n",
    "datasetoct0 = create_dataset(f, n_var=3, test_num=test_num_sub, seed=seednum, step_size=0.1, ranges=[[-5,0],[-5,0],[-5,0]], device=\"cpu\")\n",
    "# we really do need 3 ranges\n"
   ]
  },
  {
   "cell_type": "markdown",
   "metadata": {},
   "source": [
    "  ## build KAN architecture"
   ]
  },
  {
   "cell_type": "markdown",
   "metadata": {},
   "source": [
    "  Training KAN"
   ]
  },
  {
   "cell_type": "code",
   "execution_count": null,
   "metadata": {},
   "outputs": [],
   "source": [
    "# %%\n",
    "# setting bias_trainable=False, sp_trainable=False, sb_trainable=False is important.\n",
    "# otherwise KAN will have random scaling and shift for samples in previous stages\n",
    "\n",
    "model = KAN(width=[3,3,3,1], grid=100, k=3, sp_trainable=False, sb_trainable=False, noise_scale=0.1, device=\"cpu\")\n",
    "\n",
    "# make a 3D tensor with 5 points in each dimension\n",
    "x = torch.linspace(-5, 5, steps=11).repeat(3, 1).T\n",
    "\n",
    "model.update_grid_from_samples(x.to(\"cpu\"))\n",
    "# model.train(datasetoct0, opt=\"LBFGS\", update_grid=False, steps=200, device=\"cuda\", lr=0.5);\n",
    "model.train(datasetoct0, opt=\"LBFGS\", update_grid=False, steps=80, device=\"cpu\");\n",
    "# model.train(datasetoct0, opt = 'Adam', steps=5000, update_grid=False, device=\"cuda\", lr=1e-6);\n"
   ]
  },
  {
   "cell_type": "code",
   "execution_count": null,
   "metadata": {},
   "outputs": [],
   "source": [
    "model.save_ckpt(\"model_oct0.ckpt\")"
   ]
  },
  {
   "cell_type": "code",
   "execution_count": null,
   "metadata": {},
   "outputs": [],
   "source": [
    "# %%\n",
    "f_pred = model(datasetoct0['test_input'].to('cpu')).to('cpu').detach().numpy()\n"
   ]
  },
  {
   "cell_type": "code",
   "execution_count": null,
   "metadata": {},
   "outputs": [],
   "source": [
    "# %%\n",
    "f_true = datasetoct0['test_label'].to('cpu').detach().numpy()\n"
   ]
  },
  {
   "cell_type": "code",
   "execution_count": null,
   "metadata": {},
   "outputs": [],
   "source": [
    "# %%\n",
    "# compute R^2 between prediction and true value\n",
    "r2 = 1 - np.sum((f_pred - f_true)**2)/np.sum(f_true**2)\n",
    "print(f\"R^2: {r2}\")\n",
    "\n",
    "f_pred = model(datasetall['test_input'].to('cpu')).to('cpu').detach().numpy()\n",
    "f_true = datasetall['test_label'].to('cpu').detach().numpy()\n",
    "r2 = 1 - np.sum((f_pred - f_true)**2)/np.sum(f_true**2)\n",
    "print(f\"R^2 of total dataset: {r2}\")\n"
   ]
  },
  {
   "cell_type": "markdown",
   "metadata": {},
   "source": [
    " continue pruning until R^2 is close to 0.95"
   ]
  },
  {
   "cell_type": "code",
   "execution_count": null,
   "metadata": {},
   "outputs": [],
   "source": [
    "# %%\n",
    "# for x in range (1,100):\n",
    "#     threshold_value = 0.01 * x\n",
    "#     model = model.prune(threshold=threshold_value)\n",
    "#     model(datasetoct0['train_input'].to(\"cpu\"))\n",
    "#     f_pred = model(datasetoct0['test_input'].to('cpu')).to('cpu').detach().numpy()\n",
    "#     f_true = datasetoct0['test_label'].to('cpu').detach().numpy()\n",
    "#     r2 = 1 - np.sum((f_pred - f_true)**2)/np.sum(f_true**2)\n",
    "#     print(f\"R^2 of datasetoct0: {r2}\")\n",
    "#     if r2 < 0.96:\n",
    "#         break\n",
    "\n",
    "# model.plot()\n"
   ]
  },
  {
   "cell_type": "code",
   "execution_count": null,
   "metadata": {},
   "outputs": [],
   "source": [
    "# %%\n",
    "datasetoct1 = create_dataset(f, n_var=3, test_num=test_num_sub, step_size=0.1, seed=seednum, ranges=[[-5, 0], [-5, 0], [0, 5]])\n"
   ]
  },
  {
   "cell_type": "markdown",
   "metadata": {},
   "source": [
    " ### freeze/slow down/regularize/stop early network and determine nodes that is the opposite of pruning"
   ]
  },
  {
   "cell_type": "code",
   "execution_count": null,
   "metadata": {},
   "outputs": [],
   "source": [
    "# %%\n",
    "# model.train(datasetoct1, opt = 'Adam', steps=5000, update_grid=False, device=\"cuda\", lr=lr_half);\n"
   ]
  },
  {
   "cell_type": "code",
   "execution_count": null,
   "metadata": {},
   "outputs": [],
   "source": [
    "# %%\n",
    "# model.train(datasetoct1, opt=\"Adam\", steps=int(80/2));\n",
    "model.train(datasetoct1, opt=\"LBFGS\", update_grid=False, steps=80, device=\"cpu\");\n",
    "f_pred = model(datasetoct1['test_input'].to('cpu')).to('cpu').detach().numpy()\n",
    "f_true = datasetoct1['test_label'].to('cpu').detach().numpy()\n",
    "r2 = 1 - np.sum((f_pred - f_true)**2)/np.sum(f_true**2)\n",
    "print(f\"R^2: {r2}\")\n",
    "\n",
    "f_pred = model(datasetoct0['test_input'].to('cpu')).to('cpu').detach().numpy()\n",
    "f_true = datasetoct0['test_label'].to('cpu').detach().numpy()\n",
    "r2 = 1 - np.sum((f_pred - f_true)**2)/np.sum(f_true**2)\n",
    "print(f\"R^2 of datasetoct0: {r2}\")\n",
    "\n",
    "f_pred = model(datasetall['test_input'].to('cpu')).to('cpu').detach().numpy()\n",
    "f_true = datasetall['test_label'].to('cpu').detach().numpy()\n",
    "r2 = 1 - np.sum((f_pred - f_true)**2)/np.sum(f_true**2)\n",
    "print(f\"R^2 of total dataset: {r2}\")\n"
   ]
  },
  {
   "cell_type": "code",
   "execution_count": null,
   "metadata": {},
   "outputs": [],
   "source": [
    "model.save_ckpt(\"model_oct1.ckpt\")"
   ]
  },
  {
   "cell_type": "markdown",
   "metadata": {},
   "source": [
    " Also total dataset has bad r^2. Lack of data?\n",
    "\n",
    " Less catastrophic forgetting PROVIDED that the network is well pruned. Occam's Razor?"
   ]
  },
  {
   "cell_type": "code",
   "execution_count": null,
   "metadata": {},
   "outputs": [],
   "source": [
    "# %%\n",
    "# for x in range (1,100):\n",
    "#     threshold_value = 0.01 * x\n",
    "#     model = model.prune(threshold=threshold_value)\n",
    "#     model(datasetoct1['train_input'].to(\"cpu\"))\n",
    "#     f_pred = model(datasetoct1['test_input'].to('cpu')).to('cpu').detach().numpy()\n",
    "#     f_true = datasetoct1['test_label'].to('cpu').detach().numpy()\n",
    "#     r2 = 1 - np.sum((f_pred - f_true)**2)/np.sum(f_true**2)\n",
    "#     print(f\"R^2 of datasetoct1: {r2}\")\n",
    "#     if r2 < 0.96:\n",
    "#         break\n",
    "\n",
    "# model.plot()\n"
   ]
  },
  {
   "cell_type": "code",
   "execution_count": null,
   "metadata": {},
   "outputs": [],
   "source": [
    "# %%\n",
    "datasetoct2 = create_dataset(f, n_var=3, test_num=test_num_sub, step_size=0.1, seed=0, ranges=[[-5, 0], [0, 5], [-5, 0]])\n",
    "model.train(datasetoct2, opt=\"LBFGS\", steps=80);\n",
    "# model = model_bk\n",
    "f_pred = model(datasetoct2['test_input'].to('cpu')).to('cpu').detach().numpy()\n",
    "f_true = datasetoct2['test_label'].to('cpu').detach().numpy()\n",
    "r2 = 1 - np.sum((f_pred - f_true)**2)/np.sum(f_true**2)\n",
    "print(f\"R^2: {r2}\")\n",
    "\n",
    "f_pred = model(datasetoct1['test_input'].to('cpu')).to('cpu').detach().numpy()\n",
    "f_true = datasetoct1['test_label'].to('cpu').detach().numpy()\n",
    "r2 = 1 - np.sum((f_pred - f_true)**2)/np.sum(f_true**2)\n",
    "print(f\"R^2 of datasetoct1: {r2}\")\n",
    "\n",
    "f_pred = model(datasetoct0['test_input'].to('cpu')).to('cpu').detach().numpy()\n",
    "f_true = datasetoct0['test_label'].to('cpu').detach().numpy()\n",
    "r2 = 1 - np.sum((f_pred - f_true)**2)/np.sum(f_true**2)\n",
    "print(f\"R^2 of datasetoct0: {r2}\")\n",
    "\n",
    "f_pred = model(datasetall['test_input'].to('cpu')).to('cpu').detach().numpy()\n",
    "f_true = datasetall['test_label'].to('cpu').detach().numpy()\n",
    "r2 = 1 - np.sum((f_pred - f_true)**2)/np.sum(f_true**2)\n",
    "print(f\"R^2 of total dataset: {r2}\")\n"
   ]
  },
  {
   "cell_type": "code",
   "execution_count": null,
   "metadata": {},
   "outputs": [],
   "source": [
    "model.save_ckpt(\"model_oct2.ckpt\")"
   ]
  },
  {
   "cell_type": "markdown",
   "metadata": {},
   "source": [
    " A single iteration of LBFGS causes immediate catastrophic forgetting. Also, repeated dataset creation greatly varies r^2. Dataset quality is the problem."
   ]
  },
  {
   "cell_type": "code",
   "execution_count": null,
   "metadata": {},
   "outputs": [],
   "source": [
    "# %%\n",
    "model = model.prune(threshold=pruning_threshold)\n",
    "model(datasetoct2['train_input'].to(\"cpu\"))\n",
    "model.plot()\n"
   ]
  },
  {
   "cell_type": "code",
   "execution_count": null,
   "metadata": {},
   "outputs": [],
   "source": [
    "# %%\n",
    "datasetoct3 = create_dataset(f, n_var=3, train_num=trainpoints_subtask, test_num=testpoints_subtask, seed=0, ranges=[[-5, 0], [0, 5], [0, 5]])\n",
    "model.train(datasetoct3, opt=\"LBFGS\", steps=int(80/4));\n",
    "f_pred = model(datasetoct3['test_input'].to('cpu')).to('cpu').detach().numpy()\n",
    "f_true = datasetoct3['test_label'].to('cpu').detach().numpy()\n",
    "r2 = 1 - np.sum((f_pred - f_true)**2)/np.sum(f_true**2)\n",
    "print(f\"R^2: {r2}\")\n",
    "\n",
    "f_pred = model(datasetall['test_input'].to('cpu')).to('cpu').detach().numpy()\n",
    "f_true = datasetall['test_label'].to('cpu').detach().numpy()\n",
    "r2 = 1 - np.sum((f_pred - f_true)**2)/np.sum(f_true**2)\n",
    "print(f\"R^2 of total dataset: {r2}\")\n"
   ]
  },
  {
   "cell_type": "code",
   "execution_count": null,
   "metadata": {},
   "outputs": [],
   "source": [
    "# %%\n",
    "model = model.prune(threshold=pruning_threshold)\n",
    "model(datasetoct3['train_input'].to(\"cpu\"))\n",
    "model.plot()\n"
   ]
  },
  {
   "cell_type": "code",
   "execution_count": null,
   "metadata": {},
   "outputs": [],
   "source": [
    "# %%\n",
    "datasetoct4 = create_dataset(f, n_var=3, train_num=trainpoints_subtask, test_num=testpoints_subtask, seed=0, ranges=[[0, 5], [-5, 0], [-5, 0]])\n",
    "model.train(datasetoct4, opt=\"LBFGS\", steps=int(80/5));\n",
    "f_pred = model(datasetoct4['test_input'].to('cpu')).to('cpu').detach().numpy()\n",
    "f_true = datasetoct4['test_label'].to('cpu').detach().numpy()\n",
    "r2 = 1 - np.sum((f_pred - f_true)**2)/np.sum(f_true**2)\n",
    "print(f\"R^2: {r2}\")\n",
    "\n",
    "f_pred = model(datasetall['test_input'].to('cpu')).to('cpu').detach().numpy()\n",
    "f_true = datasetall['test_label'].to('cpu').detach().numpy()\n",
    "r2 = 1 - np.sum((f_pred - f_true)**2)/np.sum(f_true**2)\n",
    "print(f\"R^2 of total dataset: {r2}\")\n"
   ]
  },
  {
   "cell_type": "code",
   "execution_count": null,
   "metadata": {},
   "outputs": [],
   "source": [
    "# %%\n",
    "model = model.prune(threshold=pruning_threshold)\n",
    "model(datasetoct4['train_input'].to(\"cpu\"))\n",
    "model.plot()\n"
   ]
  },
  {
   "cell_type": "code",
   "execution_count": null,
   "metadata": {},
   "outputs": [],
   "source": [
    "# %%\n",
    "datasetoct5 = create_dataset(f, n_var=3, train_num=trainpoints_subtask, test_num=testpoints_subtask, seed=0, ranges=[[0, 5], [-5, 0], [0, 5]])\n",
    "model.train(datasetoct5, opt=\"LBFGS\", steps=int(80/6));\n",
    "f_pred = model(datasetoct5['test_input'].to('cpu')).to('cpu').detach().numpy()\n",
    "f_true = datasetoct5['test_label'].to('cpu').detach().numpy()\n",
    "r2 = 1 - np.sum((f_pred - f_true)**2)/np.sum(f_true**2)\n",
    "print(f\"R^2: {r2}\")\n",
    "\n",
    "f_pred = model(datasetall['test_input'].to('cpu')).to('cpu').detach().numpy()\n",
    "f_true = datasetall['test_label'].to('cpu').detach().numpy()\n",
    "r2 = 1 - np.sum((f_pred - f_true)**2)/np.sum(f_true**2)\n",
    "print(f\"R^2 of total dataset: {r2}\")\n",
    "\n",
    "model = model.prune(threshold=pruning_threshold)\n",
    "model(datasetoct5['train_input'].to(\"cpu\"))\n",
    "model.plot()\n"
   ]
  },
  {
   "cell_type": "code",
   "execution_count": null,
   "metadata": {},
   "outputs": [],
   "source": [
    "# %%\n",
    "datasetoct6 = create_dataset(f, n_var=3, train_num=trainpoints_subtask, test_num=testpoints_subtask, seed=0, ranges=[[0, 5], [0, 5], [-5, 0]])\n",
    "model.train(datasetoct6, opt=\"LBFGS\", steps=int(80/7));\n",
    "f_pred = model(datasetoct6['test_input'].to('cpu')).to('cpu').detach().numpy()\n",
    "f_true = datasetoct6['test_label'].to('cpu').detach().numpy()\n",
    "r2 = 1 - np.sum((f_pred - f_true)**2)/np.sum(f_true**2)\n",
    "print(f\"R^2: {r2}\")\n",
    "\n",
    "f_pred = model(datasetall['test_input'].to('cpu')).to('cpu').detach().numpy()\n",
    "f_true = datasetall['test_label'].to('cpu').detach().numpy()\n",
    "r2 = 1 - np.sum((f_pred - f_true)**2)/np.sum(f_true**2)\n",
    "print(f\"R^2 of total dataset: {r2}\")\n",
    "\n",
    "model = model.prune(threshold=pruning_threshold)\n",
    "model(datasetoct6['train_input'].to(\"cpu\"))\n",
    "model.plot()\n"
   ]
  },
  {
   "cell_type": "code",
   "execution_count": null,
   "metadata": {},
   "outputs": [],
   "source": [
    "# %%\n",
    "datasetoct7 = create_dataset(f, n_var=3, train_num=trainpoints_subtask, test_num=testpoints_subtask, seed=0, ranges=[[0, 5], [0, 5], [0, 5]])\n",
    "model.train(datasetoct7, opt=\"LBFGS\", steps=int(80/8));\n",
    "f_pred = model(datasetoct7['test_input'].to('cpu')).to('cpu').detach().numpy()\n",
    "f_true = datasetoct7['test_label'].to('cpu').detach().numpy()\n",
    "r2 = 1 - np.sum((f_pred - f_true)**2)/np.sum(f_true**2)\n",
    "print(f\"R^2: {r2}\")\n",
    "\n",
    "f_pred = model(datasetall['test_input'].to('cpu')).to('cpu').detach().numpy()\n",
    "f_true = datasetall['test_label'].to('cpu').detach().numpy()\n",
    "r2 = 1 - np.sum((f_pred - f_true)**2)/np.sum(f_true**2)\n",
    "print(f\"R^2 of total dataset: {r2}\")\n",
    "\n",
    "model = model.prune(threshold=pruning_threshold)\n",
    "model(datasetoct7['train_input'].to(\"cpu\"))\n",
    "model.plot()\n",
    "\n",
    "\n"
   ]
  }
 ],
 "metadata": {
  "kernelspec": {
   "display_name": "pykan-env",
   "language": "python",
   "name": "python3"
  },
  "language_info": {
   "codemirror_mode": {
    "name": "ipython",
    "version": 3
   },
   "file_extension": ".py",
   "mimetype": "text/x-python",
   "name": "python",
   "nbconvert_exporter": "python",
   "pygments_lexer": "ipython3",
   "version": "3.10.12"
  }
 },
 "nbformat": 4,
 "nbformat_minor": 2
}
